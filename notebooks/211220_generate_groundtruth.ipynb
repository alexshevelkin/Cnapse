{
 "cells": [
  {
   "cell_type": "markdown",
   "id": "8bc433ac",
   "metadata": {},
   "source": [
    "# 211220 Ground truth\n",
    "- 211102 synapse annotation\n",
    "- 211119 synapse annotation"
   ]
  },
  {
   "cell_type": "code",
   "execution_count": 1,
   "id": "43741bd3",
   "metadata": {},
   "outputs": [],
   "source": [
    "import numpy as np\n",
    "import tifffile as tif\n",
    "\n",
    "from cloudvolume import CloudVolume\n",
    "\n",
    "import itertools\n",
    "import operator"
   ]
  },
  {
   "cell_type": "code",
   "execution_count": 2,
   "id": "db33573c",
   "metadata": {},
   "outputs": [],
   "source": [
    "def chunk_bboxes_2d(vol_size, chunk_size, overlap=(0, 0), offset=None, mip=0):\n",
    "\n",
    "    if mip > 0:\n",
    "        mip_factor = 2 ** mip\n",
    "        vol_size = (vol_size[0]//mip_factor,\n",
    "                    vol_size[1]//mip_factor)\n",
    "\n",
    "        chunk_size = (chunk_size[0]//mip_factor,\n",
    "                      chunk_size[1]//mip_factor)\n",
    "\n",
    "        overlap = (overlap[0]//mip_factor,\n",
    "                   overlap[1]//mip_factor)\n",
    "\n",
    "        if offset is not None:\n",
    "            offset = (offset[0]//mip_factor,\n",
    "                      offset[1]//mip_factor)\n",
    "\n",
    "    x_bnds = bounds1D_overlap(vol_size[0], chunk_size[0], overlap[0])\n",
    "    y_bnds = bounds1D_overlap(vol_size[1], chunk_size[1], overlap[1])\n",
    "    \n",
    "    bboxes = [tuple(zip(xs, ys))\n",
    "              for (xs, ys) in itertools.product(x_bnds, y_bnds)]\n",
    "\n",
    "    if offset is not None:\n",
    "        bboxes = [(tuple(map(operator.add, bb[0], offset)),\n",
    "                   tuple(map(operator.add, bb[1], offset)))\n",
    "                  for bb in bboxes]\n",
    "\n",
    "    return bboxes\n",
    "\n",
    "\n",
    "# Boundaries with overlap 1D\n",
    "def bounds1D_overlap(full_width, step_size, overlap=0):\n",
    "\n",
    "    assert step_size > 0, \"invalid step_size: {}\".format(step_size)\n",
    "    assert full_width > 0, \"invalid volume_width: {}\".format(full_width)\n",
    "    assert overlap >= 0, \"invalid overlap: {}\".format(overlap)\n",
    "\n",
    "    start = 0\n",
    "    end = step_size\n",
    "\n",
    "    bounds = []\n",
    "    while end < full_width:\n",
    "        bounds.append((start, end))\n",
    "\n",
    "        start += step_size - overlap\n",
    "        end = start + step_size\n",
    "\n",
    "#     # last window\n",
    "#     end = full_width\n",
    "#     bounds.append((start, end))\n",
    "\n",
    "    return bounds"
   ]
  },
  {
   "cell_type": "markdown",
   "id": "94d8f6f3",
   "metadata": {},
   "source": [
    "## EM image"
   ]
  },
  {
   "cell_type": "code",
   "execution_count": 3,
   "id": "346d09a1",
   "metadata": {},
   "outputs": [],
   "source": [
    "cvname = \"gs://gnd-dauer1/rough_align\""
   ]
  },
  {
   "cell_type": "code",
   "execution_count": 4,
   "id": "ce1377f8",
   "metadata": {},
   "outputs": [],
   "source": [
    "vol = CloudVolume(cvname, mip=1, parallel=True, progress=False)"
   ]
  },
  {
   "cell_type": "code",
   "execution_count": 5,
   "id": "fac487ee",
   "metadata": {},
   "outputs": [],
   "source": [
    "img_size = (8000,8000)\n",
    "chunk_size = (320,320)\n",
    "overlap_size = (32,32)\n",
    "offset = (6000,6000)\n",
    "\n",
    "bbox_list = chunk_bboxes_2d(img_size, chunk_size, overlap_size, offset=offset)"
   ]
  },
  {
   "cell_type": "code",
   "execution_count": 34,
   "id": "b2f9438e",
   "metadata": {
    "scrolled": true
   },
   "outputs": [
    {
     "name": "stdout",
     "output_type": "stream",
     "text": [
      "Section 191 loaded.\n",
      "Section 192 loaded.\n",
      "Section 193 loaded.\n",
      "Section 194 loaded.\n",
      "Section 195 loaded.\n",
      "Section 196 loaded.\n",
      "Section 197 loaded.\n",
      "Section 198 loaded.\n",
      "Section 199 loaded.\n",
      "Section 200 loaded.\n",
      "Section 201 loaded.\n",
      "Section 202 loaded.\n",
      "Section 203 loaded.\n",
      "Section 204 loaded.\n",
      "Section 205 loaded.\n",
      "Section 206 loaded.\n",
      "Section 207 loaded.\n",
      "Section 208 loaded.\n",
      "Section 209 loaded.\n",
      "Section 210 loaded.\n",
      "Section 211 loaded.\n",
      "Section 212 loaded.\n",
      "Section 213 loaded.\n",
      "Section 214 loaded.\n",
      "Section 215 loaded.\n",
      "Section 216 loaded.\n",
      "Section 217 loaded.\n",
      "Section 218 loaded.\n",
      "Section 219 loaded.\n",
      "Section 220 loaded.\n",
      "Section 221 loaded.\n",
      "Section 222 loaded.\n",
      "Section 223 loaded.\n",
      "Section 224 loaded.\n",
      "Section 225 loaded.\n",
      "Section 226 loaded.\n",
      "Section 227 loaded.\n",
      "Section 228 loaded.\n",
      "Section 229 loaded.\n",
      "Section 230 loaded.\n",
      "Section 231 loaded.\n",
      "Section 232 loaded.\n",
      "Section 233 loaded.\n",
      "Section 234 loaded.\n",
      "Section 235 loaded.\n",
      "Section 236 loaded.\n",
      "Section 237 loaded.\n",
      "Section 238 loaded.\n",
      "Section 239 loaded.\n",
      "Section 240 loaded.\n"
     ]
    }
   ],
   "source": [
    "nsec = 50\n",
    "zoff = 191\n",
    "\n",
    "img_list = []\n",
    "for i in range(nsec):\n",
    "    \n",
    "    zidx = zoff + i\n",
    "    \n",
    "    img = vol[:,:,zidx][:,:,0,0]\n",
    "    \n",
    "    for b in bbox_list:\n",
    "        \n",
    "        img_sample = img[b[0][0]:b[1][0],b[0][1]:b[1][1]]\n",
    "        img_list.append(img_sample)\n",
    "        \n",
    "    print(\"Section {} loaded.\".format(zidx))"
   ]
  },
  {
   "cell_type": "code",
   "execution_count": 24,
   "id": "d6741208",
   "metadata": {
    "scrolled": false
   },
   "outputs": [
    {
     "name": "stdout",
     "output_type": "stream",
     "text": [
      "Section 371 loaded.\n",
      "Section 372 loaded.\n",
      "Section 373 loaded.\n",
      "Section 374 loaded.\n",
      "Section 375 loaded.\n",
      "Section 376 loaded.\n",
      "Section 377 loaded.\n",
      "Section 378 loaded.\n",
      "Section 379 loaded.\n",
      "Section 380 loaded.\n"
     ]
    }
   ],
   "source": [
    "nsec = 10\n",
    "zoff = 371\n",
    "\n",
    "img_list = []\n",
    "for i in range(nsec):\n",
    "    \n",
    "    zidx = zoff + i\n",
    "    \n",
    "    img = vol[:,:,zidx][:,:,0,0]\n",
    "    \n",
    "    for b in bbox_list:\n",
    "        \n",
    "        img_sample = img[b[0][0]:b[1][0],b[0][1]:b[1][1]]\n",
    "        img_list.append(img_sample)\n",
    "        \n",
    "    print(\"Section {} loaded.\".format(zidx))"
   ]
  },
  {
   "cell_type": "code",
   "execution_count": 25,
   "id": "00cd3537",
   "metadata": {},
   "outputs": [],
   "source": [
    "for i in range(len(img_list)):\n",
    "    \n",
    "    img_list[i] = img_list[i].reshape((320,320,1))"
   ]
  },
  {
   "cell_type": "code",
   "execution_count": 26,
   "id": "87c54759",
   "metadata": {},
   "outputs": [],
   "source": [
    "img_stack = np.concatenate(img_list, axis=2)"
   ]
  },
  {
   "cell_type": "code",
   "execution_count": 27,
   "id": "f5e5ab90",
   "metadata": {},
   "outputs": [],
   "source": [
    "tif.imwrite(\"/home/jabae/research/Cnapse/groundtruth/img_211119_vol5.tif\", img_stack)"
   ]
  },
  {
   "cell_type": "markdown",
   "id": "b588c80f",
   "metadata": {},
   "source": [
    "## 211102 synapse annotation"
   ]
  },
  {
   "cell_type": "code",
   "execution_count": 3,
   "id": "76331254",
   "metadata": {},
   "outputs": [],
   "source": [
    "cvname1 = \"gs://gnd-dauer1/syn_label/211102_syn_label_hs\"\n",
    "cvname2 = \"gs://gnd-dauer1/syn_label/211102_syn_label_th\""
   ]
  },
  {
   "cell_type": "code",
   "execution_count": 4,
   "id": "1be4a5ca",
   "metadata": {},
   "outputs": [],
   "source": [
    "vol1 = CloudVolume(cvname1, parallel=True, progress=False)\n",
    "vol2 = CloudVolume(cvname2, parallel=True, progress=False)"
   ]
  },
  {
   "cell_type": "code",
   "execution_count": 8,
   "id": "abd42793",
   "metadata": {},
   "outputs": [],
   "source": [
    "img_size = (8000,8000)\n",
    "chunk_size = (320,320)\n",
    "overlap_size = (32,32)\n",
    "offset = (6000,6000)\n",
    "\n",
    "bbox_list = chunk_bboxes_2d(img_size, chunk_size, overlap_size, offset=offset)"
   ]
  },
  {
   "cell_type": "code",
   "execution_count": null,
   "id": "6109f929",
   "metadata": {},
   "outputs": [],
   "source": [
    "nsec = 50\n",
    "zoff = 191\n",
    "\n",
    "lab_list = []\n",
    "for i in range(nsec):\n",
    "    \n",
    "    zidx = zoff + i\n",
    "    \n",
    "    lab1 = vol1[:,:,zidx][:,:,0,0]\n",
    "    lab2 = vol2[:,:,zidx][:,:,0,0]\n",
    "    \n",
    "    lab1 = (lab1>0).astype(\"uint8\")\n",
    "    lab2 = (lab2>0).astype(\"uint8\")\n",
    "    \n",
    "    for b in bbox_list:\n",
    "        \n",
    "        lab1_sample = lab1[b[0][0]:b[1][0],b[0][1]:b[1][1]]\n",
    "        lab2_sample = lab2[b[0][0]:b[1][0],b[0][1]:b[1][1]]\n",
    "        \n",
    "        lab_sample = lab1_sample + lab2_sample\n",
    "        lab_sample = (lab_sample>0).astype(\"uint8\")\n",
    "        lab_sample = lab_sample.reshape(lab_sample.shape+(1,))\n",
    "        \n",
    "        lab_list.append(lab_sample)\n",
    "        \n",
    "    print(\"Section {} loaded.\".format(zidx))"
   ]
  },
  {
   "cell_type": "code",
   "execution_count": 14,
   "id": "03dfbc9c",
   "metadata": {},
   "outputs": [],
   "source": [
    "lab_stack = np.concatenate(lab_list, axis=2)"
   ]
  },
  {
   "cell_type": "code",
   "execution_count": 15,
   "id": "e11dfe2c",
   "metadata": {},
   "outputs": [],
   "source": [
    "tif.imwrite(\"/home/jabae/research/Cnapse/lab_211102_vol2.tif\", lab_stack)"
   ]
  },
  {
   "cell_type": "markdown",
   "id": "7e23a202",
   "metadata": {},
   "source": [
    "## 211119 synapse annotation"
   ]
  },
  {
   "cell_type": "code",
   "execution_count": 17,
   "id": "9a1970f8",
   "metadata": {},
   "outputs": [],
   "source": [
    "cvname1 = \"gs://gnd-dauer1/syn_label/211119_syn_label_hs\"\n",
    "cvname2 = \"gs://gnd-dauer1/syn_label/211119_syn_label_th\""
   ]
  },
  {
   "cell_type": "code",
   "execution_count": 18,
   "id": "5644747a",
   "metadata": {},
   "outputs": [],
   "source": [
    "vol1 = CloudVolume(cvname1, parallel=True, progress=False)\n",
    "vol2 = CloudVolume(cvname2, parallel=True, progress=False)"
   ]
  },
  {
   "cell_type": "code",
   "execution_count": 19,
   "id": "dc7621bb",
   "metadata": {},
   "outputs": [],
   "source": [
    "img_size = (8000,8000)\n",
    "chunk_size = (320,320)\n",
    "overlap_size = (32,32)\n",
    "offset = (6000,6000)\n",
    "\n",
    "bbox_list = chunk_bboxes_2d(img_size, chunk_size, overlap_size, offset=offset)"
   ]
  },
  {
   "cell_type": "code",
   "execution_count": 20,
   "id": "82e1016b",
   "metadata": {
    "scrolled": true
   },
   "outputs": [
    {
     "name": "stdout",
     "output_type": "stream",
     "text": [
      "Section 331 loaded.\n",
      "Section 332 loaded.\n",
      "Section 333 loaded.\n",
      "Section 334 loaded.\n",
      "Section 335 loaded.\n",
      "Section 336 loaded.\n",
      "Section 337 loaded.\n",
      "Section 338 loaded.\n",
      "Section 339 loaded.\n",
      "Section 340 loaded.\n",
      "Section 341 loaded.\n",
      "Section 342 loaded.\n",
      "Section 343 loaded.\n",
      "Section 344 loaded.\n",
      "Section 345 loaded.\n",
      "Section 346 loaded.\n",
      "Section 347 loaded.\n",
      "Section 348 loaded.\n",
      "Section 349 loaded.\n",
      "Section 350 loaded.\n",
      "Section 351 loaded.\n",
      "Section 352 loaded.\n",
      "Section 353 loaded.\n",
      "Section 354 loaded.\n",
      "Section 355 loaded.\n",
      "Section 356 loaded.\n",
      "Section 357 loaded.\n",
      "Section 358 loaded.\n",
      "Section 359 loaded.\n",
      "Section 360 loaded.\n",
      "Section 361 loaded.\n",
      "Section 362 loaded.\n",
      "Section 363 loaded.\n",
      "Section 364 loaded.\n",
      "Section 365 loaded.\n",
      "Section 366 loaded.\n",
      "Section 367 loaded.\n",
      "Section 368 loaded.\n",
      "Section 369 loaded.\n",
      "Section 370 loaded.\n",
      "Section 371 loaded.\n",
      "Section 372 loaded.\n",
      "Section 373 loaded.\n",
      "Section 374 loaded.\n",
      "Section 375 loaded.\n",
      "Section 376 loaded.\n",
      "Section 377 loaded.\n",
      "Section 378 loaded.\n",
      "Section 379 loaded.\n",
      "Section 380 loaded.\n"
     ]
    }
   ],
   "source": [
    "nsec = 50\n",
    "zoff = 331\n",
    "\n",
    "lab_list = []\n",
    "for i in range(nsec):\n",
    "    \n",
    "    zidx = zoff + i\n",
    "    \n",
    "    lab1 = vol1[:,:,zidx][:,:,0,0]\n",
    "    lab2 = vol2[:,:,zidx][:,:,0,0]\n",
    "    \n",
    "    lab1 = (lab1>0).astype(\"uint8\")\n",
    "    lab2 = (lab2>0).astype(\"uint8\")\n",
    "    \n",
    "    for b in bbox_list:\n",
    "        \n",
    "        lab1_sample = lab1[b[0][0]:b[1][0],b[0][1]:b[1][1]]\n",
    "        lab2_sample = lab2[b[0][0]:b[1][0],b[0][1]:b[1][1]]\n",
    "        \n",
    "        lab_sample = lab1_sample + lab2_sample\n",
    "        lab_sample = (lab_sample>0).astype(\"uint8\")\n",
    "        lab_sample = lab_sample.reshape(lab_sample.shape+(1,))\n",
    "        \n",
    "        lab_list.append(lab_sample)\n",
    "        \n",
    "    print(\"Section {} loaded.\".format(zidx))"
   ]
  },
  {
   "cell_type": "code",
   "execution_count": 21,
   "id": "9f54bba6",
   "metadata": {},
   "outputs": [],
   "source": [
    "lab_stack = np.concatenate(lab_list, axis=2)"
   ]
  },
  {
   "cell_type": "code",
   "execution_count": 22,
   "id": "11420ec6",
   "metadata": {},
   "outputs": [],
   "source": [
    "tif.imwrite(\"/home/jabae/research/Cnapse/lab_211119.tif\", lab_stack)"
   ]
  }
 ],
 "metadata": {
  "kernelspec": {
   "display_name": "Python 3 (ipykernel)",
   "language": "python",
   "name": "python3"
  },
  "language_info": {
   "codemirror_mode": {
    "name": "ipython",
    "version": 3
   },
   "file_extension": ".py",
   "mimetype": "text/x-python",
   "name": "python",
   "nbconvert_exporter": "python",
   "pygments_lexer": "ipython3",
   "version": "3.8.12"
  }
 },
 "nbformat": 4,
 "nbformat_minor": 5
}
